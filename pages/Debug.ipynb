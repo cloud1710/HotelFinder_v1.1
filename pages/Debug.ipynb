import streamlit as st
from pathlib import Path
import hashlib

CSV_PATH = Path("data/hotels_small.csv")   # chỉnh nếu khác

st.write("ABS path:", CSV_PATH.resolve())
st.write("Exists?", CSV_PATH.exists())

if CSV_PATH.exists():
    size = CSV_PATH.stat().st_size
    st.write("Size bytes:", size)
    if size > 0:
        h = hashlib.md5()
        with CSV_PATH.open("rb") as f:
            for chunk in iter(lambda: f.read(8192), b""):
                h.update(chunk)
        st.write("MD5:", h.hexdigest())
        with CSV_PATH.open("rb") as f:
            head = f.read(200)
        st.code(head)
    else:
        st.error("FILE ĐANG = 0 BYTES THẬT SỰ. Ngừng lại ở đây.")
